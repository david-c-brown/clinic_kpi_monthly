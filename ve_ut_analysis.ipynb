{
  "nbformat": 4,
  "nbformat_minor": 0,
  "metadata": {
    "colab": {
      "provenance": [],
      "authorship_tag": "ABX9TyOkBxo28C5uSJoNPFqV0A5I",
      "include_colab_link": true
    },
    "kernelspec": {
      "name": "python3",
      "display_name": "Python 3"
    },
    "language_info": {
      "name": "python"
    }
  },
  "cells": [
    {
      "cell_type": "markdown",
      "metadata": {
        "id": "view-in-github",
        "colab_type": "text"
      },
      "source": [
        "<a href=\"https://colab.research.google.com/github/david-c-brown/clinic_kpi_monthly/blob/main/ve_ut_analysis.ipynb\" target=\"_parent\"><img src=\"https://colab.research.google.com/assets/colab-badge.svg\" alt=\"Open In Colab\"/></a>"
      ]
    },
    {
      "cell_type": "code",
      "execution_count": null,
      "metadata": {
        "id": "o_evNfGX7xRZ"
      },
      "outputs": [],
      "source": [
        "import pandas as pd\n",
        "import numpy as np\n",
        "from tqdm import tqdm\n",
        "from IPython.display import clear_output"
      ]
    },
    {
      "cell_type": "code",
      "source": [
        "# file exists locally via dropbox desktop\n",
        "file_path = \"dropbox/path/to/master_file.xlsm\"\n",
        "\n",
        "# inconsistent sheet names need to be normalized\n",
        "clinic_master_sheet_names = [\"CLIN1 PT VISITS-CAP\",\n",
        "                            \"Clnc2 PER PT VISITS-CAPACITY\",\n",
        "                            \"CLINIC 3 PT VISITS-CAP\",\n",
        "                            \"Clinic4 PT VISITS-CAPACITY\",\n",
        "                            ]\n",
        "# normalization dictionary\n",
        "location_mapping = {\n",
        "    'CLIN1': 'Clinic 1',\n",
        "    'Clnc2': 'Clinic 2',\n",
        "    'CLINIC 3': 'Clinic 3',\n",
        "    'Clinic4': 'Clinic 4'\n",
        "}\n",
        "\n",
        "# this function cleans all the sheet names to match with our other output files\n",
        "def get_location_name(name):\n",
        "    if \"PER\" in name:\n",
        "        location = name.split(\"PER\")[0].strip()\n",
        "    elif \"PT\" in name:\n",
        "        location = name.split(\"PT\")[0].strip()\n",
        "    else:\n",
        "        location = name\n",
        "    if location in location_mapping:\n",
        "        location = location_mapping[location]\n",
        "    else:\n",
        "        location = location.title()\n",
        "    return location\n"
      ],
      "metadata": {
        "id": "U4G7gJsA73MY"
      },
      "execution_count": null,
      "outputs": []
    },
    {
      "cell_type": "code",
      "source": [
        "# establish columns ahead of time. these have been standardized across the sheets\n",
        "result_df = pd.DataFrame(index = ['Total Visits', 'Utilization', 'Visits/Eval', 'Rev/Visit', 'Revenue'])\n",
        "\n",
        "for sheet in tqdm(clinic_master_sheet_names):\n",
        "    df = pd.read_excel(file_path, sheet_name=sheet, header=None)\n",
        "\n",
        "    # find the row where 'Monthly Metrics' is located\n",
        "    monthly_metrics_row = df[df.eq('Monthly Metrics').any(1)].index[0]\n",
        "\n",
        "    # set this row as the header for the DataFrame\n",
        "    df.columns = df.iloc[monthly_metrics_row]\n",
        "\n",
        "    # start the DataFrame after the header row\n",
        "    df = df.iloc[monthly_metrics_row+1:monthly_metrics_row+16]\n",
        "\n",
        "    # set the index to be 'Monthly Metrics' column\n",
        "    df.set_index('Monthly Metrics', inplace=True)\n",
        "\n",
        "    # select the desired rows and columns\n",
        "    df = df.loc[['Total Visits', 'Utilization', 'Visits/Eval','Rev/Visit', 'Revenue'], :'Clinic'].iloc[:, :-1]\n",
        "    # df = df.dropna(axis=1) # this is no longer needed\n",
        "\n",
        "    sheet = get_location_name(sheet)\n",
        "    # add a new row with the sheet name\n",
        "    df_sheet = pd.DataFrame([sheet]*df.shape[1], index=df.columns).T\n",
        "    df_sheet.index = ['Clinic']\n",
        "    df = pd.concat([df_sheet, df])\n",
        "\n",
        "    result_df = pd.concat([result_df, df], axis = 1)\n",
        "    # allows monitoring during process\n",
        "    clear_output()\n",
        "    print(sheet)\n",
        "\n",
        "result_df = result_df.transpose().reset_index().rename(columns={'index': 'First Name'})\n",
        "\n",
        "result_df.to_csv('per_pt_clinic_master.csv')\n"
      ],
      "metadata": {
        "id": "hvt50sGu88RS"
      },
      "execution_count": null,
      "outputs": []
    }
  ]
}