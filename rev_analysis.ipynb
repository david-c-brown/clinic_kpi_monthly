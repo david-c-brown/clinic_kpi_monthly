{
  "nbformat": 4,
  "nbformat_minor": 0,
  "metadata": {
    "colab": {
      "provenance": [],
      "authorship_tag": "ABX9TyOKxsB/USAfg46dTVAR+r+g",
      "include_colab_link": true
    },
    "kernelspec": {
      "name": "python3",
      "display_name": "Python 3"
    },
    "language_info": {
      "name": "python"
    }
  },
  "cells": [
    {
      "cell_type": "markdown",
      "metadata": {
        "id": "view-in-github",
        "colab_type": "text"
      },
      "source": [
        "<a href=\"https://colab.research.google.com/github/david-c-brown/clinic_kpi_monthly/blob/main/rev_analysis.ipynb\" target=\"_parent\"><img src=\"https://colab.research.google.com/assets/colab-badge.svg\" alt=\"Open In Colab\"/></a>"
      ]
    },
    {
      "cell_type": "code",
      "source": [
        "import os\n",
        "import pandas as pd\n",
        "from google.colab import files\n",
        "from IPython.display import clear_output\n",
        "from datetime import datetime"
      ],
      "metadata": {
        "id": "bLoMp14C5qHS"
      },
      "execution_count": null,
      "outputs": []
    },
    {
      "cell_type": "markdown",
      "source": [
        "This data has to be cleaned by hand. There is a lot of inconsistency with raw output and manually entered that has to be rectified. Too many variables to pattern match, and new versions occur every month.\n",
        "\n",
        "Once cleaned, we use a method analogous to =index(match()) to locate a specific block of text in each file"
      ],
      "metadata": {
        "id": "wRt9b6ym6TnP"
      }
    },
    {
      "cell_type": "code",
      "execution_count": null,
      "metadata": {
        "id": "C5FBoB055Ee_"
      },
      "outputs": [],
      "source": [
        "file_path = \"/content/drive/Shareddrives/rest/of/path/to/files\"\n",
        "\n",
        "\n",
        "# get all excel file names in the directory. again, different file types, we need to gather all\n",
        "file_names = [f for f in os.listdir(file_path) if f.endswith('.xlsx') or f.endswith('.xls')]\n",
        "\n",
        "# initialize an empty DataFrame to store results\n",
        "result_df = pd.DataFrame()\n",
        "\n",
        "for file in file_names:\n",
        "    df = pd.read_excel(os.path.join(file_path, file), sheet_name='Master Sheet', header=None) # read the file and access the summary sheet.\n",
        "\n",
        "    # find the row where 'PT' is located. this is our index(match()) function\n",
        "    pt_index = df[df.iloc[:, 8] == 'PT'].index[0]\n",
        "\n",
        "    # turn our above index into a dataframe to handle\n",
        "    # filter rows where 'I' (9th column) has 1 to 5 letters and 'J' (10th column) is a number,\n",
        "    # starting from the row after 'PT'\n",
        "    df = df[(df.index > pt_index) &\n",
        "            (df.iloc[:, 8].str.len().between(1, 6)) &\n",
        "            (df.iloc[:, 9].apply(lambda x: pd.to_numeric(x, errors='coerce')))]\n",
        "\n",
        "\n",
        "    # select only the initials and corresponding numbers in column J, and set the file name (without extension) as the index\n",
        "    df = df.iloc[:, [8, 9]]\n",
        "    df.index = [os.path.splitext(file)[0]] * len(df)\n",
        "\n",
        "    # append the current DataFrame to the result DataFrame\n",
        "    result_df = pd.concat([result_df, df])\n",
        "    clear_output()\n",
        "    print(result_df) # this lets us monitor progress, without cluttering the output\n",
        "\n",
        "# Rename columns\n",
        "result_df.columns = ['PT', 'rate_per_visit']\n",
        "\n",
        "# Convert the 'rate_per_visit' column to a float type\n",
        "result_df['rate_per_visit'] = pd.to_numeric(result_df['rate_per_visit'], errors='coerce')\n",
        "\n",
        "# Round 'rate_per_visit' to 2 decimal places\n",
        "result_df['rate_per_visit'] = result_df['rate_per_visit'].round(2)\n",
        "\n",
        "# Clean up index by removing 'TP' and '_Master Charge Sheet 2023', leaving only the clinic name\n",
        "result_df.index = result_df.index.str.replace('TP', '').str.replace('_Master Charge Sheet 2023', '')\n",
        "\n",
        "now = datetime.now()\n",
        "day = now.strftime('%d')\n",
        "month = now.strftime('%B').lower()\n",
        "year = now.strftime('%Y')\n",
        "\n",
        "# save to parent folder\n",
        "result_df.to_csv(f'{file_path}/rate_per_visit_{month}_{year}.csv')\n",
        "\n",
        "#save to local machine\n",
        "files.download(f'{file_path}/rate_per_visit_{month}_{year}.csv')\n"
      ]
    }
  ]
}